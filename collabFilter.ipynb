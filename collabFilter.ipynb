{
 "cells": [
  {
   "cell_type": "markdown",
   "metadata": {},
   "source": [
    "Make predictions"
   ]
  },
  {
   "cell_type": "markdown",
   "metadata": {},
   "source": [
    "## Surprise"
   ]
  },
  {
   "cell_type": "code",
   "execution_count": 2,
   "metadata": {},
   "outputs": [],
   "source": [
    "import numpy as np\n",
    "import pandas as pd\n",
    "from scipy import sparse\n",
    "import sys\n",
    "from surprise import Dataset, Reader\n",
    "from surprise import KNNBasic, SVD\n",
    "from surprise.model_selection import train_test_split\n",
    "from surprise import accuracy\n",
    "from surprise.dataset import DatasetAutoFolds"
   ]
  },
  {
   "cell_type": "code",
   "execution_count": 3,
   "metadata": {},
   "outputs": [
    {
     "name": "stdout",
     "output_type": "stream",
     "text": [
      "95\n",
      "19\n",
      "28\n"
     ]
    }
   ],
   "source": [
    "df = pd.read_csv('/home/suppra/Desktop/GourmetGirls/data/user_recipe_interactions.csv')\n",
    "print(len(df))\n",
    "print(len(df['user_id'].unique().tolist()))\n",
    "print(len(df['recipe_id'].unique().tolist()))"
   ]
  },
  {
   "cell_type": "code",
   "execution_count": 4,
   "metadata": {},
   "outputs": [
    {
     "name": "stdout",
     "output_type": "stream",
     "text": [
      "<class 'surprise.dataset.DatasetAutoFolds'>\n"
     ]
    }
   ],
   "source": [
    "reader = Reader(rating_scale=(0,10)) # rating scale range\n",
    "data = Dataset.load_from_df(df[['user_id', 'recipe_id', 'rating']], reader)\n",
    "print(type(data))"
   ]
  },
  {
   "cell_type": "code",
   "execution_count": 5,
   "metadata": {},
   "outputs": [
    {
     "name": "stdout",
     "output_type": "stream",
     "text": [
      "<class 'surprise.trainset.Trainset'>\n"
     ]
    }
   ],
   "source": [
    "# Split the data into training and testing sets\n",
    "trainset, testset = train_test_split(data, test_size=0.25)\n",
    "print(type(trainset))"
   ]
  },
  {
   "cell_type": "code",
   "execution_count": 6,
   "metadata": {},
   "outputs": [
    {
     "name": "stdout",
     "output_type": "stream",
     "text": [
      "User 0 rated item 0 with a rating of 0.85\n",
      "User 0 rated item 9 with a rating of 0.77\n",
      "User 0 rated item 12 with a rating of 0.85\n",
      "User 1 rated item 1 with a rating of 1.0\n",
      "User 1 rated item 8 with a rating of 1.0\n",
      "\n",
      "User yumCook123 rated item R_1 with a rating of 0.46\n",
      "User food4lyf rated item R_33 with a rating of 0.47\n",
      "User foodLover123 rated item R_36 with a rating of 1.0\n",
      "User g0rgeMehigan rated item R_15 with a rating of 0.46\n",
      "User suparna@123 rated item R_2 with a rating of 0.85\n",
      "\n",
      "71 24\n"
     ]
    }
   ],
   "source": [
    "import itertools\n",
    "\n",
    "for uid, iid, rating in itertools.islice(trainset.all_ratings(), 5):\n",
    "    print(f\"User {uid} rated item {iid} with a rating of {rating}\")\n",
    "\n",
    "print()\n",
    "for uid, iid, rating in testset[:5]:\n",
    "    print(f\"User {uid} rated item {iid} with a rating of {rating}\")\n",
    "    \n",
    "print()    \n",
    "print(trainset.n_ratings,len(testset))"
   ]
  },
  {
   "cell_type": "code",
   "execution_count": 7,
   "metadata": {},
   "outputs": [
    {
     "data": {
      "text/plain": [
       "<surprise.prediction_algorithms.matrix_factorization.SVD at 0x78749c527140>"
      ]
     },
     "execution_count": 7,
     "metadata": {},
     "output_type": "execute_result"
    }
   ],
   "source": [
    "# Use the SVD algorithm to train the model\n",
    "#algo = KNNBasic()\n",
    "algo = SVD()\n",
    "algo.fit(trainset)"
   ]
  },
  {
   "cell_type": "code",
   "execution_count": 8,
   "metadata": {},
   "outputs": [],
   "source": [
    "# Test the model on the testing set\n",
    "predictions = algo.test(testset)"
   ]
  },
  {
   "cell_type": "markdown",
   "metadata": {},
   "source": [
    "### est should be as close to r_ui"
   ]
  },
  {
   "cell_type": "code",
   "execution_count": 9,
   "metadata": {},
   "outputs": [
    {
     "name": "stdout",
     "output_type": "stream",
     "text": [
      "user: yumCook123 item: R_1        r_ui = 0.46   est = 0.59   {'was_impossible': False}\n",
      "user: food4lyf   item: R_33       r_ui = 0.47   est = 0.73   {'was_impossible': False}\n",
      "user: foodLover123 item: R_36       r_ui = 1.00   est = 0.93   {'was_impossible': False}\n",
      "user: g0rgeMehigan item: R_15       r_ui = 0.46   est = 0.64   {'was_impossible': False}\n",
      "user: suparna@123 item: R_2        r_ui = 0.85   est = 0.66   {'was_impossible': False}\n"
     ]
    }
   ],
   "source": [
    "for prediction in predictions[0:5]:\n",
    "    print(prediction)"
   ]
  },
  {
   "cell_type": "code",
   "execution_count": 10,
   "metadata": {},
   "outputs": [
    {
     "name": "stdout",
     "output_type": "stream",
     "text": [
      "RMSE: 0.1661\n"
     ]
    }
   ],
   "source": [
    "# Print the performance metrics\n",
    "rmse = round(accuracy.rmse(predictions), 2)\n"
   ]
  },
  {
   "cell_type": "code",
   "execution_count": 11,
   "metadata": {},
   "outputs": [],
   "source": [
    "true_ratings = [pred.r_ui for pred in predictions]\n",
    "est_ratings = [pred.est for pred in predictions]\n",
    "uids = [pred.uid for pred in predictions]"
   ]
  },
  {
   "cell_type": "code",
   "execution_count": 12,
   "metadata": {},
   "outputs": [
    {
     "name": "stdout",
     "output_type": "stream",
     "text": [
      "['g0rgeMehigan', 'gourmetGal', 'burpista@89', 'suparna@123', 'marcoPierre']\n"
     ]
    }
   ],
   "source": [
    "users=list(set(uids))\n",
    "print(users[0:5]) # --> users who were part of test set"
   ]
  },
  {
   "cell_type": "markdown",
   "metadata": {},
   "source": [
    "### Recommendations for users for data they haven't seen"
   ]
  },
  {
   "cell_type": "code",
   "execution_count": 13,
   "metadata": {},
   "outputs": [
    {
     "name": "stdout",
     "output_type": "stream",
     "text": [
      "\n",
      "g0rgeMehigan 23\n",
      "Recommendations for g0rgeMehigan\n",
      " recipeuser: g0rgeMehigan item: R_13       r_ui = 0.85   est = 1.02   {'was_impossible': False}, [Estimated Rating] 1.024\n",
      " recipeuser: g0rgeMehigan item: R_27       r_ui = 0.85   est = 0.97   {'was_impossible': False}, [Estimated Rating] 0.966\n",
      " recipeuser: g0rgeMehigan item: R_36       r_ui = 0.85   est = 0.91   {'was_impossible': False}, [Estimated Rating] 0.908\n",
      " recipeuser: g0rgeMehigan item: R_7        r_ui = 0.85   est = 0.90   {'was_impossible': False}, [Estimated Rating] 0.898\n",
      " recipeuser: g0rgeMehigan item: R_40       r_ui = 0.85   est = 0.84   {'was_impossible': False}, [Estimated Rating] 0.837\n",
      "\n",
      "gourmetGal 24\n",
      "Recommendations for gourmetGal\n",
      " recipeuser: gourmetGal item: R_31       r_ui = 0.85   est = 1.01   {'was_impossible': False}, [Estimated Rating] 1.01\n",
      " recipeuser: gourmetGal item: R_33       r_ui = 0.85   est = 1.00   {'was_impossible': False}, [Estimated Rating] 0.999\n",
      " recipeuser: gourmetGal item: R_18       r_ui = 0.85   est = 0.96   {'was_impossible': False}, [Estimated Rating] 0.96\n",
      " recipeuser: gourmetGal item: R_36       r_ui = 0.85   est = 0.96   {'was_impossible': False}, [Estimated Rating] 0.957\n",
      " recipeuser: gourmetGal item: R_29       r_ui = 0.85   est = 0.95   {'was_impossible': False}, [Estimated Rating] 0.947\n",
      "\n",
      "burpista@89 22\n",
      "Recommendations for burpista@89\n",
      " recipeuser: burpista@89 item: R_10       r_ui = 0.85   est = 1.00   {'was_impossible': False}, [Estimated Rating] 1.002\n",
      " recipeuser: burpista@89 item: R_31       r_ui = 0.85   est = 0.99   {'was_impossible': False}, [Estimated Rating] 0.992\n",
      " recipeuser: burpista@89 item: R_11       r_ui = 0.85   est = 0.94   {'was_impossible': False}, [Estimated Rating] 0.938\n",
      " recipeuser: burpista@89 item: R_29       r_ui = 0.85   est = 0.93   {'was_impossible': False}, [Estimated Rating] 0.929\n",
      " recipeuser: burpista@89 item: R_27       r_ui = 0.85   est = 0.90   {'was_impossible': False}, [Estimated Rating] 0.904\n",
      "\n",
      "suparna@123 23\n",
      "Recommendations for suparna@123\n",
      " recipeuser: suparna@123 item: R_4        r_ui = 0.85   est = 1.12   {'was_impossible': False}, [Estimated Rating] 1.122\n",
      " recipeuser: suparna@123 item: R_27       r_ui = 0.85   est = 1.07   {'was_impossible': False}, [Estimated Rating] 1.071\n",
      " recipeuser: suparna@123 item: R_31       r_ui = 0.85   est = 1.04   {'was_impossible': False}, [Estimated Rating] 1.038\n",
      " recipeuser: suparna@123 item: R_40       r_ui = 0.85   est = 1.02   {'was_impossible': False}, [Estimated Rating] 1.02\n",
      " recipeuser: suparna@123 item: R_29       r_ui = 0.85   est = 0.94   {'was_impossible': False}, [Estimated Rating] 0.938\n",
      "\n",
      "marcoPierre 23\n",
      "Recommendations for marcoPierre\n",
      " recipeuser: marcoPierre item: R_11       r_ui = 0.85   est = 1.00   {'was_impossible': False}, [Estimated Rating] 1.003\n",
      " recipeuser: marcoPierre item: R_36       r_ui = 0.85   est = 0.96   {'was_impossible': False}, [Estimated Rating] 0.964\n",
      " recipeuser: marcoPierre item: R_10       r_ui = 0.85   est = 0.94   {'was_impossible': False}, [Estimated Rating] 0.943\n",
      " recipeuser: marcoPierre item: R_7        r_ui = 0.85   est = 0.94   {'was_impossible': False}, [Estimated Rating] 0.936\n",
      " recipeuser: marcoPierre item: R_9        r_ui = 0.85   est = 0.93   {'was_impossible': False}, [Estimated Rating] 0.933\n"
     ]
    }
   ],
   "source": [
    "import operator\n",
    "# items which the user not yet evaluate\n",
    "items = trainset.build_anti_testset()\n",
    "for user in users[0:5]:\n",
    "    user_items = list(filter(lambda x: x[0] == user, items))\n",
    "    print()\n",
    "    print(user,len(user_items))\n",
    "    \n",
    "    # generate recommendation\n",
    "    recommendations = algo.test(user_items)\n",
    "    recommendations.sort(key=operator.itemgetter(3), reverse=True)\n",
    "    print(f\"Recommendations for {user}\")\n",
    "    for r in recommendations[0:5]:\n",
    "        print(f\" recipe{r}, [Estimated Rating] {round(r[3],3)}\")"
   ]
  },
  {
   "cell_type": "markdown",
   "metadata": {},
   "source": [
    "### Predictions for a particular user"
   ]
  },
  {
   "cell_type": "code",
   "execution_count": 14,
   "metadata": {},
   "outputs": [],
   "source": [
    "all_items = trainset.all_items()\n",
    "# Convert internal surprise-assigned itemIDs back to what I gave\n",
    "all_items_raw = [trainset.to_raw_iid(iid) for iid in all_items]\n"
   ]
  },
  {
   "cell_type": "code",
   "execution_count": 15,
   "metadata": {},
   "outputs": [
    {
     "name": "stdout",
     "output_type": "stream",
     "text": [
      "Recommend item R_24 with predicted rating 1.16\n",
      "Recommend item R_27 with predicted rating 1.08\n",
      "Recommend item R_17 with predicted rating 1.05\n",
      "Recommend item R_1 with predicted rating 1.01\n",
      "Recommend item R_23 with predicted rating 0.99\n",
      "Recommend item R_16 with predicted rating 0.99\n",
      "Recommend item R_8 with predicted rating 0.95\n",
      "Recommend item R_32 with predicted rating 0.94\n",
      "Recommend item R_38 with predicted rating 0.93\n",
      "Recommend item R_4 with predicted rating 0.92\n",
      "Recommend item R_10 with predicted rating 0.91\n",
      "Recommend item R_3 with predicted rating 0.91\n",
      "Recommend item R_11 with predicted rating 0.89\n",
      "Recommend item R_15 with predicted rating 0.89\n",
      "Recommend item R_13 with predicted rating 0.89\n",
      "Recommend item R_12 with predicted rating 0.88\n",
      "Recommend item R_2 with predicted rating 0.81\n",
      "Recommend item R_7 with predicted rating 0.81\n",
      "Recommend item R_9 with predicted rating 0.78\n",
      "Recommend item R_18 with predicted rating 0.72\n",
      "Recommend item R_14 with predicted rating 0.65\n"
     ]
    }
   ],
   "source": [
    "# Get items the user has already interacted with\n",
    "user_id = 'delishrelish564'\n",
    "user_inner_id = trainset.to_inner_uid(user_id)\n",
    "items_user_has_rated = set([j for (j, _) in trainset.ur[user_inner_id]])\n",
    "\n",
    "# Recommend items the user hasn't rated\n",
    "items_to_predict = [iid for iid in all_items if iid not in items_user_has_rated]\n",
    "\n",
    "# Predict ratings\n",
    "predictions = [\n",
    "    (trainset.to_raw_iid(iid), algo.predict(user_id, trainset.to_raw_iid(iid)).est)\n",
    "    for iid in items_to_predict\n",
    "]\n",
    "\n",
    "# Sort by predicted rating\n",
    "predictions.sort(key=lambda x: x[1], reverse=True)\n",
    "\n",
    "# Top-N Recommendations\n",
    "top_n = predictions\n",
    "for item, rating in top_n:\n",
    "    print(f\"Recommend item {item} with predicted rating {rating:.2f}\")"
   ]
  },
  {
   "cell_type": "code",
   "execution_count": 16,
   "metadata": {},
   "outputs": [
    {
     "data": {
      "text/plain": [
       "Prediction(uid='delishrelish546', iid='R_20', r_ui=None, est=0.8453521126760564, details={'was_impossible': False})"
      ]
     },
     "execution_count": 16,
     "metadata": {},
     "output_type": "execute_result"
    }
   ],
   "source": [
    "algo.predict('delishrelish546', 'R_20')"
   ]
  },
  {
   "cell_type": "markdown",
   "metadata": {},
   "source": [
    "### Saving the model and trainset"
   ]
  },
  {
   "cell_type": "code",
   "execution_count": 18,
   "metadata": {},
   "outputs": [],
   "source": [
    "import pickle\n",
    "\n",
    "# After training your model\n",
    "with open(f'models/svd_model_{str(rmse)[2:]}.pkl', 'wb') as f:\n",
    "    pickle.dump(algo, f)\n",
    "\n",
    "with open(f'models/trainset_{str(rmse)[2:]}.pkl', 'wb') as f:\n",
    "    pickle.dump(trainset, f)"
   ]
  }
 ],
 "metadata": {
  "kernelspec": {
   "display_name": "gourmetEnv",
   "language": "python",
   "name": "python3"
  },
  "language_info": {
   "codemirror_mode": {
    "name": "ipython",
    "version": 3
   },
   "file_extension": ".py",
   "mimetype": "text/x-python",
   "name": "python",
   "nbconvert_exporter": "python",
   "pygments_lexer": "ipython3",
   "version": "3.12.3"
  }
 },
 "nbformat": 4,
 "nbformat_minor": 2
}
