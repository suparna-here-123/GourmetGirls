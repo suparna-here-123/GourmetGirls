{
 "cells": [
  {
   "cell_type": "markdown",
   "metadata": {},
   "source": [
    "## Surprise"
   ]
  },
  {
   "cell_type": "code",
   "execution_count": 1,
   "metadata": {},
   "outputs": [],
   "source": [
    "import numpy as np\n",
    "import pandas as pd\n",
    "from scipy import sparse\n",
    "import sys\n",
    "from surprise import Dataset, Reader\n",
    "from surprise import KNNBasic, SVD\n",
    "from surprise.model_selection import train_test_split\n",
    "from surprise import accuracy\n",
    "from surprise.dataset import DatasetAutoFolds"
   ]
  },
  {
   "cell_type": "code",
   "execution_count": 2,
   "metadata": {},
   "outputs": [
    {
     "name": "stdout",
     "output_type": "stream",
     "text": [
      "95\n",
      "19\n",
      "32\n"
     ]
    }
   ],
   "source": [
    "df = pd.read_csv('/home/suppra/Desktop/GourmetGirls/data/user_recipe_interactions.csv')\n",
    "print(len(df))\n",
    "print(len(df['user_id'].unique().tolist()))\n",
    "print(len(df['recipe_id'].unique().tolist()))"
   ]
  },
  {
   "cell_type": "code",
   "execution_count": 3,
   "metadata": {},
   "outputs": [
    {
     "name": "stdout",
     "output_type": "stream",
     "text": [
      "<class 'surprise.dataset.DatasetAutoFolds'>\n"
     ]
    }
   ],
   "source": [
    "reader = Reader(rating_scale=(0,10)) # rating scale range\n",
    "data = Dataset.load_from_df(df[['user_id', 'recipe_id', 'rating']], reader)\n",
    "print(type(data))"
   ]
  },
  {
   "cell_type": "code",
   "execution_count": 4,
   "metadata": {},
   "outputs": [
    {
     "name": "stdout",
     "output_type": "stream",
     "text": [
      "<class 'surprise.trainset.Trainset'>\n"
     ]
    }
   ],
   "source": [
    "# Split the data into training and testing sets\n",
    "trainset, testset = train_test_split(data, test_size=0.25)\n",
    "print(type(trainset))"
   ]
  },
  {
   "cell_type": "code",
   "execution_count": 5,
   "metadata": {},
   "outputs": [
    {
     "name": "stdout",
     "output_type": "stream",
     "text": [
      "User 0 rated item 0 with a rating of 1.0\n",
      "User 0 rated item 10 with a rating of 1.0\n",
      "User 0 rated item 12 with a rating of 1.0\n",
      "User 0 rated item 20 with a rating of 1.0\n",
      "User 1 rated item 1 with a rating of 0.85\n",
      "\n",
      "User delishrelish564 rated item R_31 with a rating of 1.0\n",
      "User tArLaDaLaL rated item R_2 with a rating of 0.54\n",
      "User I<3Food rated item R_23 with a rating of 1.0\n",
      "User chefMaster rated item R_5 with a rating of 0.68\n",
      "User aditi@456 rated item R_3qXgYDV8zRo9TUF5aH39vk with a rating of 0.85\n",
      "\n",
      "71 24\n"
     ]
    }
   ],
   "source": [
    "import itertools\n",
    "\n",
    "for uid, iid, rating in itertools.islice(trainset.all_ratings(), 5):\n",
    "    print(f\"User {uid} rated item {iid} with a rating of {rating}\")\n",
    "\n",
    "print()\n",
    "for uid, iid, rating in testset[:5]:\n",
    "    print(f\"User {uid} rated item {iid} with a rating of {rating}\")\n",
    "    \n",
    "print()    \n",
    "print(trainset.n_ratings,len(testset))"
   ]
  },
  {
   "cell_type": "code",
   "execution_count": 6,
   "metadata": {},
   "outputs": [
    {
     "data": {
      "text/plain": [
       "<surprise.prediction_algorithms.matrix_factorization.SVD at 0x7ba2a65e82f0>"
      ]
     },
     "execution_count": 6,
     "metadata": {},
     "output_type": "execute_result"
    }
   ],
   "source": [
    "# Use the SVD algorithm to train the model\n",
    "#algo = KNNBasic()\n",
    "algo = SVD()\n",
    "algo.fit(trainset)"
   ]
  },
  {
   "cell_type": "code",
   "execution_count": 7,
   "metadata": {},
   "outputs": [],
   "source": [
    "# Test the model on the testing set\n",
    "predictions = algo.test(testset)"
   ]
  },
  {
   "cell_type": "markdown",
   "metadata": {},
   "source": [
    "### est should be as close to r_ui"
   ]
  },
  {
   "cell_type": "code",
   "execution_count": 8,
   "metadata": {},
   "outputs": [
    {
     "name": "stdout",
     "output_type": "stream",
     "text": [
      "user: delishrelish564 item: R_31       r_ui = 1.00   est = 0.85   {'was_impossible': False}\n",
      "user: tArLaDaLaL item: R_2        r_ui = 0.54   est = 0.43   {'was_impossible': False}\n",
      "user: I<3Food    item: R_23       r_ui = 1.00   est = 0.95   {'was_impossible': False}\n",
      "user: chefMaster item: R_5        r_ui = 0.68   est = 0.70   {'was_impossible': False}\n",
      "user: aditi@456  item: R_3qXgYDV8zRo9TUF5aH39vk r_ui = 0.85   est = 0.82   {'was_impossible': False}\n"
     ]
    }
   ],
   "source": [
    "for prediction in predictions[0:5]:\n",
    "    print(prediction)"
   ]
  },
  {
   "cell_type": "code",
   "execution_count": 9,
   "metadata": {},
   "outputs": [
    {
     "name": "stdout",
     "output_type": "stream",
     "text": [
      "RMSE: 0.1744\n"
     ]
    }
   ],
   "source": [
    "# Print the performance metrics\n",
    "rmse = round(accuracy.rmse(predictions), 2)\n"
   ]
  },
  {
   "cell_type": "code",
   "execution_count": 10,
   "metadata": {},
   "outputs": [],
   "source": [
    "true_ratings = [pred.r_ui for pred in predictions]\n",
    "est_ratings = [pred.est for pred in predictions]\n",
    "uids = [pred.uid for pred in predictions]"
   ]
  },
  {
   "cell_type": "code",
   "execution_count": 11,
   "metadata": {},
   "outputs": [
    {
     "name": "stdout",
     "output_type": "stream",
     "text": [
      "['sanjayKapoor2004', 'foodLover123', 'aditi@456', 'emptyPlate45', 'tArLaDaLaL']\n"
     ]
    }
   ],
   "source": [
    "users=list(set(uids))\n",
    "print(users[0:5]) # --> users who were part of test set"
   ]
  },
  {
   "cell_type": "markdown",
   "metadata": {},
   "source": [
    "### Recommendations for users for data they haven't seen"
   ]
  },
  {
   "cell_type": "code",
   "execution_count": 12,
   "metadata": {},
   "outputs": [
    {
     "name": "stdout",
     "output_type": "stream",
     "text": [
      "\n",
      "sanjayKapoor2004 27\n",
      "Recommendations for sanjayKapoor2004\n",
      " recipeuser: sanjayKapoor2004 item: R_24       r_ui = 0.81   est = 1.15   {'was_impossible': False}, [Estimated Rating] 1.147\n",
      " recipeuser: sanjayKapoor2004 item: R_10       r_ui = 0.81   est = 1.05   {'was_impossible': False}, [Estimated Rating] 1.051\n",
      " recipeuser: sanjayKapoor2004 item: R_33       r_ui = 0.81   est = 1.05   {'was_impossible': False}, [Estimated Rating] 1.051\n",
      " recipeuser: sanjayKapoor2004 item: R_13       r_ui = 0.81   est = 0.95   {'was_impossible': False}, [Estimated Rating] 0.947\n",
      " recipeuser: sanjayKapoor2004 item: R_21       r_ui = 0.81   est = 0.93   {'was_impossible': False}, [Estimated Rating] 0.935\n",
      "\n",
      "foodLover123 26\n",
      "Recommendations for foodLover123\n",
      " recipeuser: foodLover123 item: R_27       r_ui = 0.81   est = 1.06   {'was_impossible': False}, [Estimated Rating] 1.064\n",
      " recipeuser: foodLover123 item: R_14       r_ui = 0.81   est = 1.04   {'was_impossible': False}, [Estimated Rating] 1.043\n",
      " recipeuser: foodLover123 item: R_24       r_ui = 0.81   est = 0.97   {'was_impossible': False}, [Estimated Rating] 0.969\n",
      " recipeuser: foodLover123 item: R_3        r_ui = 0.81   est = 0.92   {'was_impossible': False}, [Estimated Rating] 0.924\n",
      " recipeuser: foodLover123 item: R_2        r_ui = 0.81   est = 0.92   {'was_impossible': False}, [Estimated Rating] 0.919\n",
      "\n",
      "aditi@456 26\n",
      "Recommendations for aditi@456\n",
      " recipeuser: aditi@456  item: R_31       r_ui = 0.81   est = 1.01   {'was_impossible': False}, [Estimated Rating] 1.006\n",
      " recipeuser: aditi@456  item: R_36       r_ui = 0.81   est = 1.00   {'was_impossible': False}, [Estimated Rating] 1.003\n",
      " recipeuser: aditi@456  item: R_24       r_ui = 0.81   est = 0.92   {'was_impossible': False}, [Estimated Rating] 0.92\n",
      " recipeuser: aditi@456  item: R_21       r_ui = 0.81   est = 0.91   {'was_impossible': False}, [Estimated Rating] 0.912\n",
      " recipeuser: aditi@456  item: R_40       r_ui = 0.81   est = 0.91   {'was_impossible': False}, [Estimated Rating] 0.907\n",
      "\n",
      "emptyPlate45 26\n",
      "Recommendations for emptyPlate45\n",
      " recipeuser: emptyPlate45 item: R_21       r_ui = 0.81   est = 1.10   {'was_impossible': False}, [Estimated Rating] 1.097\n",
      " recipeuser: emptyPlate45 item: R_24       r_ui = 0.81   est = 1.04   {'was_impossible': False}, [Estimated Rating] 1.038\n",
      " recipeuser: emptyPlate45 item: R_31       r_ui = 0.81   est = 0.95   {'was_impossible': False}, [Estimated Rating] 0.95\n",
      " recipeuser: emptyPlate45 item: R_23       r_ui = 0.81   est = 0.94   {'was_impossible': False}, [Estimated Rating] 0.944\n",
      " recipeuser: emptyPlate45 item: R_38       r_ui = 0.81   est = 0.94   {'was_impossible': False}, [Estimated Rating] 0.944\n",
      "\n",
      "tArLaDaLaL 26\n",
      "Recommendations for tArLaDaLaL\n",
      " recipeuser: tArLaDaLaL item: R_11       r_ui = 0.81   est = 0.97   {'was_impossible': False}, [Estimated Rating] 0.972\n",
      " recipeuser: tArLaDaLaL item: R_36       r_ui = 0.81   est = 0.95   {'was_impossible': False}, [Estimated Rating] 0.946\n",
      " recipeuser: tArLaDaLaL item: R_16       r_ui = 0.81   est = 0.93   {'was_impossible': False}, [Estimated Rating] 0.934\n",
      " recipeuser: tArLaDaLaL item: R_24       r_ui = 0.81   est = 0.92   {'was_impossible': False}, [Estimated Rating] 0.916\n",
      " recipeuser: tArLaDaLaL item: R_10       r_ui = 0.81   est = 0.91   {'was_impossible': False}, [Estimated Rating] 0.911\n"
     ]
    }
   ],
   "source": [
    "import operator\n",
    "# items which the user not yet evaluate\n",
    "items = trainset.build_anti_testset()\n",
    "for user in users[0:5]:\n",
    "    user_items = list(filter(lambda x: x[0] == user, items))\n",
    "    print()\n",
    "    print(user,len(user_items))\n",
    "    \n",
    "    # generate recommendation\n",
    "    recommendations = algo.test(user_items)\n",
    "    recommendations.sort(key=operator.itemgetter(3), reverse=True)\n",
    "    print(f\"Recommendations for {user}\")\n",
    "    for r in recommendations[0:5]:\n",
    "        print(f\" recipe{r}, [Estimated Rating] {round(r[3],3)}\")"
   ]
  },
  {
   "cell_type": "markdown",
   "metadata": {},
   "source": [
    "### Predictions for a particular user"
   ]
  },
  {
   "cell_type": "code",
   "execution_count": 13,
   "metadata": {},
   "outputs": [],
   "source": [
    "all_items = trainset.all_items()\n",
    "# Convert internal surprise-assigned itemIDs back to what I gave\n",
    "all_items_raw = [trainset.to_raw_iid(iid) for iid in all_items]\n"
   ]
  },
  {
   "cell_type": "code",
   "execution_count": 14,
   "metadata": {},
   "outputs": [
    {
     "name": "stdout",
     "output_type": "stream",
     "text": [
      "Recommend item R_11 with predicted rating 1.00\n",
      "Recommend item R_19 with predicted rating 0.91\n",
      "Recommend item R_24 with predicted rating 0.91\n",
      "Recommend item R_10 with predicted rating 0.89\n",
      "Recommend item R_31 with predicted rating 0.89\n",
      "Recommend item R_16 with predicted rating 0.87\n",
      "Recommend item R_27 with predicted rating 0.86\n",
      "Recommend item R_12 with predicted rating 0.85\n",
      "Recommend item R_32 with predicted rating 0.81\n",
      "Recommend item R_4 with predicted rating 0.81\n",
      "Recommend item R_40 with predicted rating 0.81\n",
      "Recommend item R_14 with predicted rating 0.79\n",
      "Recommend item R_38 with predicted rating 0.79\n",
      "Recommend item R_6 with predicted rating 0.78\n",
      "Recommend item R_13 with predicted rating 0.78\n",
      "Recommend item R_17 with predicted rating 0.78\n",
      "Recommend item R_15 with predicted rating 0.77\n",
      "Recommend item R_36 with predicted rating 0.75\n",
      "Recommend item R_21 with predicted rating 0.74\n",
      "Recommend item R_1 with predicted rating 0.74\n",
      "Recommend item R_23 with predicted rating 0.71\n",
      "Recommend item R_28 with predicted rating 0.67\n",
      "Recommend item R_33 with predicted rating 0.65\n",
      "Recommend item R_8 with predicted rating 0.62\n",
      "Recommend item R_29 with predicted rating 0.58\n",
      "Recommend item R_5 with predicted rating 0.56\n"
     ]
    }
   ],
   "source": [
    "# Get items the user has already interacted with\n",
    "user_id = 'suparna@123'\n",
    "user_inner_id = trainset.to_inner_uid(user_id)\n",
    "items_user_has_rated = set([j for (j, _) in trainset.ur[user_inner_id]])\n",
    "\n",
    "# Recommend items the user hasn't rated\n",
    "items_to_predict = [iid for iid in all_items if iid not in items_user_has_rated]\n",
    "\n",
    "# Predict ratings\n",
    "predictions = [\n",
    "    (trainset.to_raw_iid(iid), algo.predict(user_id, trainset.to_raw_iid(iid)).est)\n",
    "    for iid in items_to_predict\n",
    "]\n",
    "\n",
    "# Sort by predicted rating\n",
    "predictions.sort(key=lambda x: x[1], reverse=True)\n",
    "\n",
    "# Top-N Recommendations\n",
    "top_n = predictions\n",
    "for item, rating in top_n:\n",
    "    print(f\"Recommend item {item} with predicted rating {rating:.2f}\")"
   ]
  },
  {
   "cell_type": "code",
   "execution_count": 15,
   "metadata": {},
   "outputs": [
    {
     "data": {
      "text/plain": [
       "Prediction(uid='delishrelish546', iid='R_20', r_ui=None, est=0.81, details={'was_impossible': False})"
      ]
     },
     "execution_count": 15,
     "metadata": {},
     "output_type": "execute_result"
    }
   ],
   "source": [
    "algo.predict('delishrelish546', 'R_20')"
   ]
  },
  {
   "cell_type": "markdown",
   "metadata": {},
   "source": [
    "### Saving the model and trainset"
   ]
  },
  {
   "cell_type": "code",
   "execution_count": 16,
   "metadata": {},
   "outputs": [],
   "source": [
    "import pickle\n",
    "\n",
    "# After training your model\n",
    "with open(f'models/svd_model_{str(rmse)[2:]}.pkl', 'wb') as f:\n",
    "    pickle.dump(algo, f)\n",
    "\n",
    "with open(f'models/trainset_{str(rmse)[2:]}.pkl', 'wb') as f:\n",
    "    pickle.dump(trainset, f)"
   ]
  }
 ],
 "metadata": {
  "kernelspec": {
   "display_name": "gourmetEnv",
   "language": "python",
   "name": "python3"
  },
  "language_info": {
   "codemirror_mode": {
    "name": "ipython",
    "version": 3
   },
   "file_extension": ".py",
   "mimetype": "text/x-python",
   "name": "python",
   "nbconvert_exporter": "python",
   "pygments_lexer": "ipython3",
   "version": "3.12.3"
  }
 },
 "nbformat": 4,
 "nbformat_minor": 2
}
