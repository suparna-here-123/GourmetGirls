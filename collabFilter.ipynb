{
 "cells": [
  {
   "cell_type": "markdown",
   "metadata": {},
   "source": [
    "## Surprise"
   ]
  },
  {
   "cell_type": "code",
   "execution_count": 17,
   "metadata": {},
   "outputs": [],
   "source": [
    "import numpy as np\n",
    "import pandas as pd\n",
    "from scipy import sparse\n",
    "import sys\n",
    "from surprise import Dataset, Reader\n",
    "from surprise import KNNBasic, SVD\n",
    "from surprise.model_selection import train_test_split\n",
    "from surprise import accuracy\n",
    "from surprise.dataset import DatasetAutoFolds"
   ]
  },
  {
   "cell_type": "code",
   "execution_count": 18,
   "metadata": {},
   "outputs": [
    {
     "name": "stdout",
     "output_type": "stream",
     "text": [
      "95\n",
      "19\n",
      "32\n"
     ]
    }
   ],
   "source": [
    "df = pd.read_csv('/home/suppra/Desktop/GourmetGirls/data/user_recipe_interactions.csv')\n",
    "print(len(df))\n",
    "print(len(df['user_id'].unique().tolist()))\n",
    "print(len(df['recipe_id'].unique().tolist()))"
   ]
  },
  {
   "cell_type": "code",
   "execution_count": 19,
   "metadata": {},
   "outputs": [
    {
     "name": "stdout",
     "output_type": "stream",
     "text": [
      "<class 'surprise.dataset.DatasetAutoFolds'>\n"
     ]
    }
   ],
   "source": [
    "reader = Reader(rating_scale=(0,10)) # rating scale range\n",
    "data = Dataset.load_from_df(df[['user_id', 'recipe_id', 'rating']], reader)\n",
    "print(type(data))"
   ]
  },
  {
   "cell_type": "code",
   "execution_count": 20,
   "metadata": {},
   "outputs": [
    {
     "name": "stdout",
     "output_type": "stream",
     "text": [
      "<class 'surprise.trainset.Trainset'>\n"
     ]
    }
   ],
   "source": [
    "# Split the data into training and testing sets\n",
    "trainset, testset = train_test_split(data, test_size=0.25)\n",
    "print(type(trainset))"
   ]
  },
  {
   "cell_type": "code",
   "execution_count": 21,
   "metadata": {},
   "outputs": [
    {
     "name": "stdout",
     "output_type": "stream",
     "text": [
      "User 0 rated item 0 with a rating of 0.68\n",
      "User 0 rated item 7 with a rating of 0.76\n",
      "User 0 rated item 13 with a rating of 0.68\n",
      "User 0 rated item 18 with a rating of 0.68\n",
      "User 1 rated item 1 with a rating of 1.0\n",
      "\n",
      "User foodLover123 rated item R_31 with a rating of 1.0\n",
      "User aditi@456 rated item R_19 with a rating of 0.85\n",
      "User kaapiLover57 rated item R_40 with a rating of 1.0\n",
      "User food4lyf rated item R_1 with a rating of 0.54\n",
      "User gourmetGal rated item R_23 with a rating of 1.0\n",
      "\n",
      "71 24\n"
     ]
    }
   ],
   "source": [
    "import itertools\n",
    "\n",
    "for uid, iid, rating in itertools.islice(trainset.all_ratings(), 5):\n",
    "    print(f\"User {uid} rated item {iid} with a rating of {rating}\")\n",
    "\n",
    "print()\n",
    "for uid, iid, rating in testset[:5]:\n",
    "    print(f\"User {uid} rated item {iid} with a rating of {rating}\")\n",
    "    \n",
    "print()    \n",
    "print(trainset.n_ratings,len(testset))"
   ]
  },
  {
   "cell_type": "code",
   "execution_count": 22,
   "metadata": {},
   "outputs": [
    {
     "data": {
      "text/plain": [
       "<surprise.prediction_algorithms.matrix_factorization.SVD at 0x73b09d4740b0>"
      ]
     },
     "execution_count": 22,
     "metadata": {},
     "output_type": "execute_result"
    }
   ],
   "source": [
    "# Use the SVD algorithm to train the model\n",
    "#algo = KNNBasic()\n",
    "algo = SVD()\n",
    "algo.fit(trainset)"
   ]
  },
  {
   "cell_type": "code",
   "execution_count": 23,
   "metadata": {},
   "outputs": [],
   "source": [
    "# Test the model on the testing set\n",
    "predictions = algo.test(testset)"
   ]
  },
  {
   "cell_type": "markdown",
   "metadata": {},
   "source": [
    "### est should be as close to r_ui"
   ]
  },
  {
   "cell_type": "code",
   "execution_count": 24,
   "metadata": {},
   "outputs": [
    {
     "name": "stdout",
     "output_type": "stream",
     "text": [
      "user: foodLover123 item: R_31       r_ui = 1.00   est = 0.96   {'was_impossible': False}\n",
      "user: aditi@456  item: R_19       r_ui = 0.85   est = 0.83   {'was_impossible': False}\n",
      "user: kaapiLover57 item: R_40       r_ui = 1.00   est = 0.92   {'was_impossible': False}\n",
      "user: food4lyf   item: R_1        r_ui = 0.54   est = 0.60   {'was_impossible': False}\n",
      "user: gourmetGal item: R_23       r_ui = 1.00   est = 0.91   {'was_impossible': False}\n"
     ]
    }
   ],
   "source": [
    "for prediction in predictions[0:5]:\n",
    "    print(prediction)"
   ]
  },
  {
   "cell_type": "code",
   "execution_count": 25,
   "metadata": {},
   "outputs": [
    {
     "name": "stdout",
     "output_type": "stream",
     "text": [
      "RMSE: 0.1632\n"
     ]
    }
   ],
   "source": [
    "# Print the performance metrics\n",
    "rmse = round(accuracy.rmse(predictions), 2)\n"
   ]
  },
  {
   "cell_type": "code",
   "execution_count": 26,
   "metadata": {},
   "outputs": [],
   "source": [
    "true_ratings = [pred.r_ui for pred in predictions]\n",
    "est_ratings = [pred.est for pred in predictions]\n",
    "uids = [pred.uid for pred in predictions]"
   ]
  },
  {
   "cell_type": "code",
   "execution_count": 27,
   "metadata": {},
   "outputs": [
    {
     "name": "stdout",
     "output_type": "stream",
     "text": [
      "['sihikahi34', 'gourmetGal', 'foodLover123', 'I<3Food', 'g0rgeMehigan']\n"
     ]
    }
   ],
   "source": [
    "users=list(set(uids))\n",
    "print(users[0:5]) # --> users who were part of test set"
   ]
  },
  {
   "cell_type": "markdown",
   "metadata": {},
   "source": [
    "### Recommendations for users for data they haven't seen"
   ]
  },
  {
   "cell_type": "code",
   "execution_count": 28,
   "metadata": {},
   "outputs": [
    {
     "name": "stdout",
     "output_type": "stream",
     "text": [
      "\n",
      "sihikahi34 23\n",
      "Recommendations for sihikahi34\n",
      " recipeuser: sihikahi34 item: R_24       r_ui = 0.83   est = 1.02   {'was_impossible': False}, [Estimated Rating] 1.024\n",
      " recipeuser: sihikahi34 item: R_5        r_ui = 0.83   est = 1.01   {'was_impossible': False}, [Estimated Rating] 1.012\n",
      " recipeuser: sihikahi34 item: R_16       r_ui = 0.83   est = 0.96   {'was_impossible': False}, [Estimated Rating] 0.961\n",
      " recipeuser: sihikahi34 item: R_13       r_ui = 0.83   est = 0.95   {'was_impossible': False}, [Estimated Rating] 0.954\n",
      " recipeuser: sihikahi34 item: R_28       r_ui = 0.83   est = 0.95   {'was_impossible': False}, [Estimated Rating] 0.947\n",
      "\n",
      "gourmetGal 24\n",
      "Recommendations for gourmetGal\n",
      " recipeuser: gourmetGal item: R_33       r_ui = 0.83   est = 0.99   {'was_impossible': False}, [Estimated Rating] 0.991\n",
      " recipeuser: gourmetGal item: R_3        r_ui = 0.83   est = 0.98   {'was_impossible': False}, [Estimated Rating] 0.985\n",
      " recipeuser: gourmetGal item: R_8        r_ui = 0.83   est = 0.95   {'was_impossible': False}, [Estimated Rating] 0.947\n",
      " recipeuser: gourmetGal item: R_18       r_ui = 0.83   est = 0.92   {'was_impossible': False}, [Estimated Rating] 0.923\n",
      " recipeuser: gourmetGal item: R_23       r_ui = 0.83   est = 0.91   {'was_impossible': False}, [Estimated Rating] 0.907\n",
      "\n",
      "foodLover123 24\n",
      "Recommendations for foodLover123\n",
      " recipeuser: foodLover123 item: R_2        r_ui = 0.83   est = 1.09   {'was_impossible': False}, [Estimated Rating] 1.09\n",
      " recipeuser: foodLover123 item: R_32       r_ui = 0.83   est = 1.03   {'was_impossible': False}, [Estimated Rating] 1.029\n",
      " recipeuser: foodLover123 item: R_38       r_ui = 0.83   est = 0.99   {'was_impossible': False}, [Estimated Rating] 0.986\n",
      " recipeuser: foodLover123 item: R_12       r_ui = 0.83   est = 0.98   {'was_impossible': False}, [Estimated Rating] 0.977\n",
      " recipeuser: foodLover123 item: R_5        r_ui = 0.83   est = 0.97   {'was_impossible': False}, [Estimated Rating] 0.968\n",
      "\n",
      "I<3Food 24\n",
      "Recommendations for I<3Food\n",
      " recipeuser: I<3Food    item: R_11       r_ui = 0.83   est = 1.10   {'was_impossible': False}, [Estimated Rating] 1.105\n",
      " recipeuser: I<3Food    item: R_8        r_ui = 0.83   est = 1.08   {'was_impossible': False}, [Estimated Rating] 1.076\n",
      " recipeuser: I<3Food    item: R_9        r_ui = 0.83   est = 0.97   {'was_impossible': False}, [Estimated Rating] 0.965\n",
      " recipeuser: I<3Food    item: R_32       r_ui = 0.83   est = 0.96   {'was_impossible': False}, [Estimated Rating] 0.958\n",
      " recipeuser: I<3Food    item: R_28       r_ui = 0.83   est = 0.91   {'was_impossible': False}, [Estimated Rating] 0.909\n",
      "\n",
      "g0rgeMehigan 24\n",
      "Recommendations for g0rgeMehigan\n",
      " recipeuser: g0rgeMehigan item: R_12       r_ui = 0.83   est = 0.88   {'was_impossible': False}, [Estimated Rating] 0.881\n",
      " recipeuser: g0rgeMehigan item: R_32       r_ui = 0.83   est = 0.84   {'was_impossible': False}, [Estimated Rating] 0.838\n",
      " recipeuser: g0rgeMehigan item: R_31       r_ui = 0.83   est = 0.83   {'was_impossible': False}, [Estimated Rating] 0.835\n",
      " recipeuser: g0rgeMehigan item: R_36       r_ui = 0.83   est = 0.82   {'was_impossible': False}, [Estimated Rating] 0.821\n",
      " recipeuser: g0rgeMehigan item: R_6        r_ui = 0.83   est = 0.78   {'was_impossible': False}, [Estimated Rating] 0.782\n"
     ]
    }
   ],
   "source": [
    "import operator\n",
    "# items which the user not yet evaluate\n",
    "items = trainset.build_anti_testset()\n",
    "for user in users[0:5]:\n",
    "    user_items = list(filter(lambda x: x[0] == user, items))\n",
    "    print()\n",
    "    print(user,len(user_items))\n",
    "    \n",
    "    # generate recommendation\n",
    "    recommendations = algo.test(user_items)\n",
    "    recommendations.sort(key=operator.itemgetter(3), reverse=True)\n",
    "    print(f\"Recommendations for {user}\")\n",
    "    for r in recommendations[0:5]:\n",
    "        print(f\" recipe{r}, [Estimated Rating] {round(r[3],3)}\")"
   ]
  },
  {
   "cell_type": "markdown",
   "metadata": {},
   "source": [
    "### Predictions for a particular user"
   ]
  },
  {
   "cell_type": "code",
   "execution_count": 29,
   "metadata": {},
   "outputs": [],
   "source": [
    "all_items = trainset.all_items()\n",
    "# Convert internal surprise-assigned itemIDs back to what I gave\n",
    "all_items_raw = [trainset.to_raw_iid(iid) for iid in all_items]\n"
   ]
  },
  {
   "cell_type": "code",
   "execution_count": 30,
   "metadata": {},
   "outputs": [
    {
     "name": "stdout",
     "output_type": "stream",
     "text": [
      "Recommend item R_3 with predicted rating 0.99\n",
      "Recommend item R_23 with predicted rating 0.95\n",
      "Recommend item R_21 with predicted rating 0.95\n",
      "Recommend item R_32 with predicted rating 0.92\n",
      "Recommend item R_8 with predicted rating 0.92\n",
      "Recommend item R_27 with predicted rating 0.92\n",
      "Recommend item R_14 with predicted rating 0.91\n",
      "Recommend item R_5 with predicted rating 0.91\n",
      "Recommend item R_13 with predicted rating 0.90\n",
      "Recommend item R_24 with predicted rating 0.90\n",
      "Recommend item R_6 with predicted rating 0.87\n",
      "Recommend item R_17 with predicted rating 0.87\n",
      "Recommend item R_38 with predicted rating 0.86\n",
      "Recommend item R_2 with predicted rating 0.85\n",
      "Recommend item R_28 with predicted rating 0.83\n",
      "Recommend item R_18 with predicted rating 0.77\n",
      "Recommend item R_16 with predicted rating 0.76\n",
      "Recommend item R_11 with predicted rating 0.75\n",
      "Recommend item R_12 with predicted rating 0.72\n",
      "Recommend item R_1 with predicted rating 0.71\n",
      "Recommend item R_4 with predicted rating 0.69\n",
      "Recommend item R_9 with predicted rating 0.64\n"
     ]
    }
   ],
   "source": [
    "# Get items the user has already interacted with\n",
    "user_id = 'delishrelish564'\n",
    "user_inner_id = trainset.to_inner_uid(user_id)\n",
    "items_user_has_rated = set([j for (j, _) in trainset.ur[user_inner_id]])\n",
    "\n",
    "# Recommend items the user hasn't rated\n",
    "items_to_predict = [iid for iid in all_items if iid not in items_user_has_rated]\n",
    "\n",
    "# Predict ratings\n",
    "predictions = [\n",
    "    (trainset.to_raw_iid(iid), algo.predict(user_id, trainset.to_raw_iid(iid)).est)\n",
    "    for iid in items_to_predict\n",
    "]\n",
    "\n",
    "# Sort by predicted rating\n",
    "predictions.sort(key=lambda x: x[1], reverse=True)\n",
    "\n",
    "# Top-N Recommendations\n",
    "top_n = predictions\n",
    "for item, rating in top_n:\n",
    "    print(f\"Recommend item {item} with predicted rating {rating:.2f}\")"
   ]
  },
  {
   "cell_type": "code",
   "execution_count": 31,
   "metadata": {},
   "outputs": [
    {
     "data": {
      "text/plain": [
       "Prediction(uid='delishrelish546', iid='R_20', r_ui=None, est=0.832394366197183, details={'was_impossible': False})"
      ]
     },
     "execution_count": 31,
     "metadata": {},
     "output_type": "execute_result"
    }
   ],
   "source": [
    "algo.predict('delishrelish546', 'R_20')"
   ]
  },
  {
   "cell_type": "markdown",
   "metadata": {},
   "source": [
    "### Saving the model and trainset"
   ]
  },
  {
   "cell_type": "code",
   "execution_count": 32,
   "metadata": {},
   "outputs": [],
   "source": [
    "import pickle\n",
    "\n",
    "# After training your model\n",
    "with open(f'models/svd_model_{str(rmse)[2:]}.pkl', 'wb') as f:\n",
    "    pickle.dump(algo, f)\n",
    "\n",
    "with open(f'models/trainset_{str(rmse)[2:]}.pkl', 'wb') as f:\n",
    "    pickle.dump(trainset, f)"
   ]
  }
 ],
 "metadata": {
  "kernelspec": {
   "display_name": "gourmetEnv",
   "language": "python",
   "name": "python3"
  },
  "language_info": {
   "codemirror_mode": {
    "name": "ipython",
    "version": 3
   },
   "file_extension": ".py",
   "mimetype": "text/x-python",
   "name": "python",
   "nbconvert_exporter": "python",
   "pygments_lexer": "ipython3",
   "version": "3.12.3"
  }
 },
 "nbformat": 4,
 "nbformat_minor": 2
}
