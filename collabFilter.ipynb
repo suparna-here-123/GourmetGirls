{
 "cells": [
  {
   "cell_type": "markdown",
   "metadata": {},
   "source": [
    "Make predictions"
   ]
  },
  {
   "cell_type": "markdown",
   "metadata": {},
   "source": [
    "## Surprise"
   ]
  },
  {
   "cell_type": "code",
   "execution_count": 68,
   "metadata": {},
   "outputs": [],
   "source": [
    "import numpy as np\n",
    "import pandas as pd\n",
    "from scipy import sparse\n",
    "import sys\n",
    "from surprise import Dataset, Reader\n",
    "from surprise import KNNBasic, SVD\n",
    "from surprise.model_selection import train_test_split\n",
    "from surprise import accuracy\n",
    "from surprise.dataset import DatasetAutoFolds"
   ]
  },
  {
   "cell_type": "code",
   "execution_count": 69,
   "metadata": {},
   "outputs": [
    {
     "name": "stdout",
     "output_type": "stream",
     "text": [
      "95\n",
      "19\n",
      "28\n"
     ]
    }
   ],
   "source": [
    "df = pd.read_csv('/home/suppra/Desktop/GourmetGirls/data/user_recipe_interactions.csv')\n",
    "print(len(df))\n",
    "print(len(df['user_id'].unique().tolist()))\n",
    "print(len(df['recipe_id'].unique().tolist()))"
   ]
  },
  {
   "cell_type": "code",
   "execution_count": 70,
   "metadata": {},
   "outputs": [
    {
     "name": "stdout",
     "output_type": "stream",
     "text": [
      "<class 'surprise.dataset.DatasetAutoFolds'>\n"
     ]
    }
   ],
   "source": [
    "reader = Reader(rating_scale=(0,10)) # rating scale range\n",
    "data = Dataset.load_from_df(df[['user_id', 'recipe_id', 'rating']], reader)\n",
    "print(type(data))"
   ]
  },
  {
   "cell_type": "code",
   "execution_count": 71,
   "metadata": {},
   "outputs": [
    {
     "name": "stdout",
     "output_type": "stream",
     "text": [
      "<class 'surprise.trainset.Trainset'>\n"
     ]
    }
   ],
   "source": [
    "# Split the data into training and testing sets\n",
    "trainset, testset = train_test_split(data, test_size=0.25)\n",
    "print(type(trainset))"
   ]
  },
  {
   "cell_type": "code",
   "execution_count": 72,
   "metadata": {},
   "outputs": [
    {
     "name": "stdout",
     "output_type": "stream",
     "text": [
      "User 0 rated item 0 with a rating of 1.0\n",
      "User 0 rated item 7 with a rating of 1.0\n",
      "User 0 rated item 17 with a rating of 1.0\n",
      "User 0 rated item 23 with a rating of 1.0\n",
      "User 1 rated item 1 with a rating of 0.46\n",
      "\n",
      "User gourmetGal rated item R_27 with a rating of 1.0\n",
      "User burpista@89 rated item R_33 with a rating of 0.39\n",
      "User g0rgeMehigan rated item R_16 with a rating of 0.46\n",
      "User marcoPierre rated item R_29 with a rating of 1.0\n",
      "User I<3Food rated item R_23 with a rating of 1.0\n",
      "\n",
      "71 24\n"
     ]
    }
   ],
   "source": [
    "import itertools\n",
    "\n",
    "for uid, iid, rating in itertools.islice(trainset.all_ratings(), 5):\n",
    "    print(f\"User {uid} rated item {iid} with a rating of {rating}\")\n",
    "\n",
    "print()\n",
    "for uid, iid, rating in testset[:5]:\n",
    "    print(f\"User {uid} rated item {iid} with a rating of {rating}\")\n",
    "    \n",
    "print()    \n",
    "print(trainset.n_ratings,len(testset))"
   ]
  },
  {
   "cell_type": "code",
   "execution_count": 73,
   "metadata": {},
   "outputs": [
    {
     "data": {
      "text/plain": [
       "<surprise.prediction_algorithms.matrix_factorization.SVD at 0x73cc4d80b0e0>"
      ]
     },
     "execution_count": 73,
     "metadata": {},
     "output_type": "execute_result"
    }
   ],
   "source": [
    "# Use the SVD algorithm to train the model\n",
    "#algo = KNNBasic()\n",
    "algo = SVD()\n",
    "algo.fit(trainset)"
   ]
  },
  {
   "cell_type": "code",
   "execution_count": 74,
   "metadata": {},
   "outputs": [],
   "source": [
    "# Test the model on the testing set\n",
    "predictions = algo.test(testset)"
   ]
  },
  {
   "cell_type": "markdown",
   "metadata": {},
   "source": [
    "### est should be as close to r_ui"
   ]
  },
  {
   "cell_type": "code",
   "execution_count": 75,
   "metadata": {},
   "outputs": [
    {
     "name": "stdout",
     "output_type": "stream",
     "text": [
      "user: gourmetGal item: R_27       r_ui = 1.00   est = 0.87   {'was_impossible': False}\n",
      "user: burpista@89 item: R_33       r_ui = 0.39   est = 0.79   {'was_impossible': False}\n",
      "user: g0rgeMehigan item: R_16       r_ui = 0.46   est = 0.68   {'was_impossible': False}\n",
      "user: marcoPierre item: R_29       r_ui = 1.00   est = 0.72   {'was_impossible': False}\n",
      "user: I<3Food    item: R_23       r_ui = 1.00   est = 0.83   {'was_impossible': False}\n"
     ]
    }
   ],
   "source": [
    "for prediction in predictions[0:5]:\n",
    "    print(prediction)"
   ]
  },
  {
   "cell_type": "code",
   "execution_count": 76,
   "metadata": {},
   "outputs": [
    {
     "name": "stdout",
     "output_type": "stream",
     "text": [
      "RMSE: 0.2192\n"
     ]
    }
   ],
   "source": [
    "# Print the performance metrics\n",
    "rmse = round(accuracy.rmse(predictions), 2)\n"
   ]
  },
  {
   "cell_type": "code",
   "execution_count": 77,
   "metadata": {},
   "outputs": [],
   "source": [
    "true_ratings = [pred.r_ui for pred in predictions]\n",
    "est_ratings = [pred.est for pred in predictions]\n",
    "uids = [pred.uid for pred in predictions]"
   ]
  },
  {
   "cell_type": "code",
   "execution_count": 78,
   "metadata": {},
   "outputs": [
    {
     "name": "stdout",
     "output_type": "stream",
     "text": [
      "['foodLover123', 'sihikahi34', 'sanjayKapoor2004', 'yumCook123', 'aditi@456']\n"
     ]
    }
   ],
   "source": [
    "users=list(set(uids))\n",
    "print(users[0:5]) # --> users who were part of test set"
   ]
  },
  {
   "cell_type": "markdown",
   "metadata": {},
   "source": [
    "### Recommendations for users for data they haven't seen"
   ]
  },
  {
   "cell_type": "code",
   "execution_count": 79,
   "metadata": {},
   "outputs": [
    {
     "name": "stdout",
     "output_type": "stream",
     "text": [
      "\n",
      "foodLover123 23\n",
      "Recommendations for foodLover123\n",
      " recipeuser: foodLover123 item: R_13       r_ui = 0.84   est = 1.13   {'was_impossible': False}, [Estimated Rating] 1.128\n",
      " recipeuser: foodLover123 item: R_8        r_ui = 0.84   est = 1.07   {'was_impossible': False}, [Estimated Rating] 1.067\n",
      " recipeuser: foodLover123 item: R_31       r_ui = 0.84   est = 1.05   {'was_impossible': False}, [Estimated Rating] 1.047\n",
      " recipeuser: foodLover123 item: R_10       r_ui = 0.84   est = 1.03   {'was_impossible': False}, [Estimated Rating] 1.031\n",
      " recipeuser: foodLover123 item: R_11       r_ui = 0.84   est = 1.02   {'was_impossible': False}, [Estimated Rating] 1.015\n",
      "\n",
      "sihikahi34 23\n",
      "Recommendations for sihikahi34\n",
      " recipeuser: sihikahi34 item: R_36       r_ui = 0.84   est = 1.09   {'was_impossible': False}, [Estimated Rating] 1.088\n",
      " recipeuser: sihikahi34 item: R_7        r_ui = 0.84   est = 1.05   {'was_impossible': False}, [Estimated Rating] 1.054\n",
      " recipeuser: sihikahi34 item: R_29       r_ui = 0.84   est = 1.05   {'was_impossible': False}, [Estimated Rating] 1.053\n",
      " recipeuser: sihikahi34 item: R_12       r_ui = 0.84   est = 1.05   {'was_impossible': False}, [Estimated Rating] 1.049\n",
      " recipeuser: sihikahi34 item: R_32       r_ui = 0.84   est = 1.01   {'was_impossible': False}, [Estimated Rating] 1.012\n",
      "\n",
      "sanjayKapoor2004 24\n",
      "Recommendations for sanjayKapoor2004\n",
      " recipeuser: sanjayKapoor2004 item: R_18       r_ui = 0.84   est = 1.08   {'was_impossible': False}, [Estimated Rating] 1.075\n",
      " recipeuser: sanjayKapoor2004 item: R_17       r_ui = 0.84   est = 1.04   {'was_impossible': False}, [Estimated Rating] 1.042\n",
      " recipeuser: sanjayKapoor2004 item: R_31       r_ui = 0.84   est = 1.03   {'was_impossible': False}, [Estimated Rating] 1.033\n",
      " recipeuser: sanjayKapoor2004 item: R_11       r_ui = 0.84   est = 1.02   {'was_impossible': False}, [Estimated Rating] 1.02\n",
      " recipeuser: sanjayKapoor2004 item: R_13       r_ui = 0.84   est = 0.98   {'was_impossible': False}, [Estimated Rating] 0.978\n",
      "\n",
      "yumCook123 23\n",
      "Recommendations for yumCook123\n",
      " recipeuser: yumCook123 item: R_10       r_ui = 0.84   est = 1.00   {'was_impossible': False}, [Estimated Rating] 1.003\n",
      " recipeuser: yumCook123 item: R_18       r_ui = 0.84   est = 0.85   {'was_impossible': False}, [Estimated Rating] 0.848\n",
      " recipeuser: yumCook123 item: R_24       r_ui = 0.84   est = 0.84   {'was_impossible': False}, [Estimated Rating] 0.837\n",
      " recipeuser: yumCook123 item: R_5        r_ui = 0.84   est = 0.83   {'was_impossible': False}, [Estimated Rating] 0.835\n",
      " recipeuser: yumCook123 item: R_33       r_ui = 0.84   est = 0.82   {'was_impossible': False}, [Estimated Rating] 0.821\n",
      "\n",
      "aditi@456 23\n",
      "Recommendations for aditi@456\n",
      " recipeuser: aditi@456  item: R_24       r_ui = 0.84   est = 1.09   {'was_impossible': False}, [Estimated Rating] 1.086\n",
      " recipeuser: aditi@456  item: R_32       r_ui = 0.84   est = 1.04   {'was_impossible': False}, [Estimated Rating] 1.036\n",
      " recipeuser: aditi@456  item: R_8        r_ui = 0.84   est = 0.97   {'was_impossible': False}, [Estimated Rating] 0.968\n",
      " recipeuser: aditi@456  item: R_5        r_ui = 0.84   est = 0.94   {'was_impossible': False}, [Estimated Rating] 0.945\n",
      " recipeuser: aditi@456  item: R_27       r_ui = 0.84   est = 0.94   {'was_impossible': False}, [Estimated Rating] 0.935\n"
     ]
    }
   ],
   "source": [
    "import operator\n",
    "# items which the user not yet evaluate\n",
    "items = trainset.build_anti_testset()\n",
    "for user in users[0:5]:\n",
    "    user_items = list(filter(lambda x: x[0] == user, items))\n",
    "    print()\n",
    "    print(user,len(user_items))\n",
    "    \n",
    "    # generate recommendation\n",
    "    recommendations = algo.test(user_items)\n",
    "    recommendations.sort(key=operator.itemgetter(3), reverse=True)\n",
    "    print(f\"Recommendations for {user}\")\n",
    "    for r in recommendations[0:5]:\n",
    "        print(f\" recipe{r}, [Estimated Rating] {round(r[3],3)}\")"
   ]
  },
  {
   "cell_type": "markdown",
   "metadata": {},
   "source": [
    "### Predictions for a particular user"
   ]
  },
  {
   "cell_type": "code",
   "execution_count": 80,
   "metadata": {},
   "outputs": [],
   "source": [
    "all_items = trainset.all_items()\n",
    "# Convert internal surprise-assigned itemIDs back to what I gave\n",
    "all_items_raw = [trainset.to_raw_iid(iid) for iid in all_items]\n"
   ]
  },
  {
   "cell_type": "code",
   "execution_count": 81,
   "metadata": {},
   "outputs": [
    {
     "name": "stdout",
     "output_type": "stream",
     "text": [
      "Recommend item R_8 with predicted rating 1.10\n",
      "Recommend item R_16 with predicted rating 1.05\n",
      "Recommend item R_4 with predicted rating 1.02\n",
      "Recommend item R_18 with predicted rating 1.02\n",
      "Recommend item R_13 with predicted rating 0.99\n",
      "Recommend item R_3 with predicted rating 0.95\n",
      "Recommend item R_6 with predicted rating 0.94\n",
      "Recommend item R_24 with predicted rating 0.93\n",
      "Recommend item R_38 with predicted rating 0.91\n",
      "Recommend item R_1 with predicted rating 0.89\n",
      "Recommend item R_5 with predicted rating 0.89\n",
      "Recommend item R_27 with predicted rating 0.88\n",
      "Recommend item R_23 with predicted rating 0.87\n",
      "Recommend item R_32 with predicted rating 0.86\n",
      "Recommend item R_7 with predicted rating 0.86\n",
      "Recommend item R_10 with predicted rating 0.85\n",
      "Recommend item R_12 with predicted rating 0.84\n",
      "Recommend item R_11 with predicted rating 0.81\n",
      "Recommend item R_17 with predicted rating 0.81\n",
      "Recommend item R_14 with predicted rating 0.76\n",
      "Recommend item R_9 with predicted rating 0.69\n",
      "Recommend item R_2 with predicted rating 0.68\n"
     ]
    }
   ],
   "source": [
    "# Get items the user has already interacted with\n",
    "user_id = 'delishrelish564'\n",
    "user_inner_id = trainset.to_inner_uid(user_id)\n",
    "items_user_has_rated = set([j for (j, _) in trainset.ur[user_inner_id]])\n",
    "\n",
    "# Recommend items the user hasn't rated\n",
    "items_to_predict = [iid for iid in all_items if iid not in items_user_has_rated]\n",
    "\n",
    "# Predict ratings\n",
    "predictions = [\n",
    "    (trainset.to_raw_iid(iid), algo.predict(user_id, trainset.to_raw_iid(iid)).est)\n",
    "    for iid in items_to_predict\n",
    "]\n",
    "\n",
    "# Sort by predicted rating\n",
    "predictions.sort(key=lambda x: x[1], reverse=True)\n",
    "\n",
    "# Top-N Recommendations\n",
    "top_n = predictions\n",
    "for item, rating in top_n:\n",
    "    print(f\"Recommend item {item} with predicted rating {rating:.2f}\")"
   ]
  },
  {
   "cell_type": "code",
   "execution_count": 82,
   "metadata": {},
   "outputs": [
    {
     "data": {
      "text/plain": [
       "Prediction(uid='delishrelish546', iid='R_20', r_ui=None, est=0.8438028169014085, details={'was_impossible': False})"
      ]
     },
     "execution_count": 82,
     "metadata": {},
     "output_type": "execute_result"
    }
   ],
   "source": [
    "algo.predict('delishrelish546', 'R_20')"
   ]
  },
  {
   "cell_type": "markdown",
   "metadata": {},
   "source": [
    "### Saving the model and trainset"
   ]
  },
  {
   "cell_type": "code",
   "execution_count": 83,
   "metadata": {},
   "outputs": [],
   "source": [
    "import pickle\n",
    "\n",
    "# After training your model\n",
    "with open(f'models/svd_model_{rmse}.pkl', 'wb') as f:\n",
    "    pickle.dump(algo, f)\n",
    "\n",
    "with open(f'models/trainset_{rmse}.pkl', 'wb') as f:\n",
    "    pickle.dump(trainset, f)"
   ]
  }
 ],
 "metadata": {
  "kernelspec": {
   "display_name": "gourmetEnv",
   "language": "python",
   "name": "python3"
  },
  "language_info": {
   "codemirror_mode": {
    "name": "ipython",
    "version": 3
   },
   "file_extension": ".py",
   "mimetype": "text/x-python",
   "name": "python",
   "nbconvert_exporter": "python",
   "pygments_lexer": "ipython3",
   "version": "3.12.3"
  }
 },
 "nbformat": 4,
 "nbformat_minor": 2
}
